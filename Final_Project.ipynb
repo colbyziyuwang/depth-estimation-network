{
  "nbformat": 4,
  "nbformat_minor": 0,
  "metadata": {
    "colab": {
      "provenance": []
    },
    "kernelspec": {
      "name": "python3",
      "display_name": "Python 3"
    },
    "language_info": {
      "name": "python"
    }
  },
  "cells": [
    {
      "cell_type": "markdown",
      "source": [
        "# Welcome!\n",
        "Alex Wang, Suyeong Choi, and Colby Wang"
      ],
      "metadata": {
        "id": "sc2-Yr039uyo"
      }
    },
    {
      "cell_type": "markdown",
      "source": [
        "# Abstract"
      ],
      "metadata": {
        "id": "WrSILBqo-aCF"
      }
    },
    {
      "cell_type": "markdown",
      "source": [
        "This is our abstract"
      ],
      "metadata": {
        "id": "ojIPYMoW-cga"
      }
    },
    {
      "cell_type": "markdown",
      "source": [
        "# Team Members and Contributions"
      ],
      "metadata": {
        "id": "-FoDy_GY-fi8"
      }
    },
    {
      "cell_type": "markdown",
      "source": [
        "Members"
      ],
      "metadata": {
        "id": "9p2-gpXL_LoX"
      }
    },
    {
      "cell_type": "markdown",
      "source": [
        "# Code Libraries"
      ],
      "metadata": {
        "id": "bfiebb2m-3sN"
      }
    },
    {
      "cell_type": "markdown",
      "source": [
        "Libraries"
      ],
      "metadata": {
        "id": "TdjUHpTt_Ouk"
      }
    },
    {
      "cell_type": "markdown",
      "source": [
        "# Actual Code"
      ],
      "metadata": {
        "id": "4EuDk7A9_DWS"
      }
    },
    {
      "cell_type": "code",
      "source": [
        "print(\"Welcome\")"
      ],
      "metadata": {
        "colab": {
          "base_uri": "https://localhost:8080/"
        },
        "id": "UIU7Trl2_Qdh",
        "outputId": "e4480e2f-abe5-41d2-ec28-e776c42a9790"
      },
      "execution_count": null,
      "outputs": [
        {
          "output_type": "stream",
          "name": "stdout",
          "text": [
            "Welcome\n"
          ]
        }
      ]
    },
    {
      "cell_type": "markdown",
      "source": [
        "# Conclusions"
      ],
      "metadata": {
        "id": "OWMiRr2v_ADG"
      }
    },
    {
      "cell_type": "markdown",
      "source": [
        "conclusions"
      ],
      "metadata": {
        "id": "WmxxB6eY_S39"
      }
    }
  ]
}